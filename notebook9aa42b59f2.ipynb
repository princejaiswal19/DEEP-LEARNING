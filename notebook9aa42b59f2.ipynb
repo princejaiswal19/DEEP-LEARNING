{
 "cells": [
  {
   "cell_type": "code",
   "execution_count": 1,
   "id": "aeb7b7a0",
   "metadata": {
    "_cell_guid": "b1076dfc-b9ad-4769-8c92-a6c4dae69d19",
    "_uuid": "8f2839f25d086af736a60e9eeb907d3b93b6e0e5",
    "execution": {
     "iopub.execute_input": "2025-07-09T08:41:24.031169Z",
     "iopub.status.busy": "2025-07-09T08:41:24.030854Z",
     "iopub.status.idle": "2025-07-09T08:41:26.040701Z",
     "shell.execute_reply": "2025-07-09T08:41:26.039560Z"
    },
    "papermill": {
     "duration": 2.016929,
     "end_time": "2025-07-09T08:41:26.042390",
     "exception": false,
     "start_time": "2025-07-09T08:41:24.025461",
     "status": "completed"
    },
    "tags": []
   },
   "outputs": [],
   "source": [
    "import numpy as np\n",
    "import pandas as pd\n",
    "import matplotlib.pyplot as plt"
   ]
  },
  {
   "cell_type": "code",
   "execution_count": 2,
   "id": "92ae3194",
   "metadata": {
    "execution": {
     "iopub.execute_input": "2025-07-09T08:41:26.052203Z",
     "iopub.status.busy": "2025-07-09T08:41:26.051168Z",
     "iopub.status.idle": "2025-07-09T08:41:26.057604Z",
     "shell.execute_reply": "2025-07-09T08:41:26.056044Z"
    },
    "papermill": {
     "duration": 0.013217,
     "end_time": "2025-07-09T08:41:26.059664",
     "exception": false,
     "start_time": "2025-07-09T08:41:26.046447",
     "status": "completed"
    },
    "tags": []
   },
   "outputs": [],
   "source": [
    "import numpy as np\n",
    "\n",
    "docs = ['go india',\n",
    "\t\t'india india',\n",
    "\t\t'hip hip hurray',\n",
    "\t\t'jeetega bhai jeetega india jeetega',\n",
    "\t\t'bharat mata ki jai',\n",
    "\t\t'kohli kohli',\n",
    "\t\t'sachin sachin',\n",
    "\t\t'dhoni dhoni',\n",
    "\t\t'modi ji ki jai',\n",
    "\t\t'inquilab zindabad']"
   ]
  },
  {
   "cell_type": "code",
   "execution_count": 3,
   "id": "6d70776a",
   "metadata": {
    "execution": {
     "iopub.execute_input": "2025-07-09T08:41:26.068402Z",
     "iopub.status.busy": "2025-07-09T08:41:26.068025Z",
     "iopub.status.idle": "2025-07-09T08:41:44.721124Z",
     "shell.execute_reply": "2025-07-09T08:41:44.720208Z"
    },
    "papermill": {
     "duration": 18.659354,
     "end_time": "2025-07-09T08:41:44.722863",
     "exception": false,
     "start_time": "2025-07-09T08:41:26.063509",
     "status": "completed"
    },
    "tags": []
   },
   "outputs": [
    {
     "name": "stderr",
     "output_type": "stream",
     "text": [
      "2025-07-09 08:41:28.068131: E external/local_xla/xla/stream_executor/cuda/cuda_fft.cc:477] Unable to register cuFFT factory: Attempting to register factory for plugin cuFFT when one has already been registered\n",
      "WARNING: All log messages before absl::InitializeLog() is called are written to STDERR\n",
      "E0000 00:00:1752050488.321413      13 cuda_dnn.cc:8310] Unable to register cuDNN factory: Attempting to register factory for plugin cuDNN when one has already been registered\n",
      "E0000 00:00:1752050488.392105      13 cuda_blas.cc:1418] Unable to register cuBLAS factory: Attempting to register factory for plugin cuBLAS when one has already been registered\n"
     ]
    }
   ],
   "source": [
    "from tensorflow.keras.preprocessing.text import Tokenizer\n",
    "tokenizer = Tokenizer(oov_token='<nothing>')  \n",
    "# replcing each new word with tokenizer"
   ]
  },
  {
   "cell_type": "code",
   "execution_count": 4,
   "id": "3798d315",
   "metadata": {
    "execution": {
     "iopub.execute_input": "2025-07-09T08:41:44.731989Z",
     "iopub.status.busy": "2025-07-09T08:41:44.731419Z",
     "iopub.status.idle": "2025-07-09T08:41:44.736153Z",
     "shell.execute_reply": "2025-07-09T08:41:44.735322Z"
    },
    "papermill": {
     "duration": 0.011151,
     "end_time": "2025-07-09T08:41:44.737843",
     "exception": false,
     "start_time": "2025-07-09T08:41:44.726692",
     "status": "completed"
    },
    "tags": []
   },
   "outputs": [],
   "source": [
    "tokenizer.fit_on_texts(docs)"
   ]
  },
  {
   "cell_type": "code",
   "execution_count": 5,
   "id": "cbbd8f5a",
   "metadata": {
    "execution": {
     "iopub.execute_input": "2025-07-09T08:41:44.746866Z",
     "iopub.status.busy": "2025-07-09T08:41:44.746540Z",
     "iopub.status.idle": "2025-07-09T08:41:44.753251Z",
     "shell.execute_reply": "2025-07-09T08:41:44.752374Z"
    },
    "papermill": {
     "duration": 0.013051,
     "end_time": "2025-07-09T08:41:44.754831",
     "exception": false,
     "start_time": "2025-07-09T08:41:44.741780",
     "status": "completed"
    },
    "tags": []
   },
   "outputs": [
    {
     "data": {
      "text/plain": [
       "{'<nothing>': 1,\n",
       " 'india': 2,\n",
       " 'jeetega': 3,\n",
       " 'hip': 4,\n",
       " 'ki': 5,\n",
       " 'jai': 6,\n",
       " 'kohli': 7,\n",
       " 'sachin': 8,\n",
       " 'dhoni': 9,\n",
       " 'go': 10,\n",
       " 'hurray': 11,\n",
       " 'bhai': 12,\n",
       " 'bharat': 13,\n",
       " 'mata': 14,\n",
       " 'modi': 15,\n",
       " 'ji': 16,\n",
       " 'inquilab': 17,\n",
       " 'zindabad': 18}"
      ]
     },
     "execution_count": 5,
     "metadata": {},
     "output_type": "execute_result"
    }
   ],
   "source": [
    "tokenizer.word_index"
   ]
  },
  {
   "cell_type": "code",
   "execution_count": 6,
   "id": "9ee20771",
   "metadata": {
    "execution": {
     "iopub.execute_input": "2025-07-09T08:41:44.763852Z",
     "iopub.status.busy": "2025-07-09T08:41:44.763517Z",
     "iopub.status.idle": "2025-07-09T08:41:44.770173Z",
     "shell.execute_reply": "2025-07-09T08:41:44.769103Z"
    },
    "papermill": {
     "duration": 0.013124,
     "end_time": "2025-07-09T08:41:44.771851",
     "exception": false,
     "start_time": "2025-07-09T08:41:44.758727",
     "status": "completed"
    },
    "tags": []
   },
   "outputs": [
    {
     "data": {
      "text/plain": [
       "OrderedDict([('go', 1),\n",
       "             ('india', 4),\n",
       "             ('hip', 2),\n",
       "             ('hurray', 1),\n",
       "             ('jeetega', 3),\n",
       "             ('bhai', 1),\n",
       "             ('bharat', 1),\n",
       "             ('mata', 1),\n",
       "             ('ki', 2),\n",
       "             ('jai', 2),\n",
       "             ('kohli', 2),\n",
       "             ('sachin', 2),\n",
       "             ('dhoni', 2),\n",
       "             ('modi', 1),\n",
       "             ('ji', 1),\n",
       "             ('inquilab', 1),\n",
       "             ('zindabad', 1)])"
      ]
     },
     "execution_count": 6,
     "metadata": {},
     "output_type": "execute_result"
    }
   ],
   "source": [
    "tokenizer.word_counts"
   ]
  },
  {
   "cell_type": "code",
   "execution_count": 7,
   "id": "7d63e6b9",
   "metadata": {
    "execution": {
     "iopub.execute_input": "2025-07-09T08:41:44.782091Z",
     "iopub.status.busy": "2025-07-09T08:41:44.781767Z",
     "iopub.status.idle": "2025-07-09T08:41:44.787861Z",
     "shell.execute_reply": "2025-07-09T08:41:44.786618Z"
    },
    "papermill": {
     "duration": 0.013109,
     "end_time": "2025-07-09T08:41:44.789701",
     "exception": false,
     "start_time": "2025-07-09T08:41:44.776592",
     "status": "completed"
    },
    "tags": []
   },
   "outputs": [
    {
     "data": {
      "text/plain": [
       "10"
      ]
     },
     "execution_count": 7,
     "metadata": {},
     "output_type": "execute_result"
    }
   ],
   "source": [
    "tokenizer.document_count"
   ]
  },
  {
   "cell_type": "code",
   "execution_count": 8,
   "id": "7115faaa",
   "metadata": {
    "execution": {
     "iopub.execute_input": "2025-07-09T08:41:44.799034Z",
     "iopub.status.busy": "2025-07-09T08:41:44.798716Z",
     "iopub.status.idle": "2025-07-09T08:41:44.805517Z",
     "shell.execute_reply": "2025-07-09T08:41:44.804532Z"
    },
    "papermill": {
     "duration": 0.013536,
     "end_time": "2025-07-09T08:41:44.807357",
     "exception": false,
     "start_time": "2025-07-09T08:41:44.793821",
     "status": "completed"
    },
    "tags": []
   },
   "outputs": [
    {
     "data": {
      "text/plain": [
       "[[10, 2],\n",
       " [2, 2],\n",
       " [4, 4, 11],\n",
       " [3, 12, 3, 2, 3],\n",
       " [13, 14, 5, 6],\n",
       " [7, 7],\n",
       " [8, 8],\n",
       " [9, 9],\n",
       " [15, 16, 5, 6],\n",
       " [17, 18]]"
      ]
     },
     "execution_count": 8,
     "metadata": {},
     "output_type": "execute_result"
    }
   ],
   "source": [
    "sequences = tokenizer.texts_to_sequences(docs)\n",
    "sequences"
   ]
  },
  {
   "cell_type": "code",
   "execution_count": 9,
   "id": "97fec744",
   "metadata": {
    "execution": {
     "iopub.execute_input": "2025-07-09T08:41:44.818049Z",
     "iopub.status.busy": "2025-07-09T08:41:44.817740Z",
     "iopub.status.idle": "2025-07-09T08:41:44.823070Z",
     "shell.execute_reply": "2025-07-09T08:41:44.822205Z"
    },
    "papermill": {
     "duration": 0.013112,
     "end_time": "2025-07-09T08:41:44.824876",
     "exception": false,
     "start_time": "2025-07-09T08:41:44.811764",
     "status": "completed"
    },
    "tags": []
   },
   "outputs": [],
   "source": [
    "from keras.utils import pad_sequences"
   ]
  },
  {
   "cell_type": "code",
   "execution_count": 10,
   "id": "deb56f82",
   "metadata": {
    "execution": {
     "iopub.execute_input": "2025-07-09T08:41:44.834165Z",
     "iopub.status.busy": "2025-07-09T08:41:44.833842Z",
     "iopub.status.idle": "2025-07-09T08:41:44.838963Z",
     "shell.execute_reply": "2025-07-09T08:41:44.838075Z"
    },
    "papermill": {
     "duration": 0.011652,
     "end_time": "2025-07-09T08:41:44.840590",
     "exception": false,
     "start_time": "2025-07-09T08:41:44.828938",
     "status": "completed"
    },
    "tags": []
   },
   "outputs": [],
   "source": [
    "sequences = pad_sequences(sequences,padding='post')"
   ]
  },
  {
   "cell_type": "code",
   "execution_count": 11,
   "id": "e918a768",
   "metadata": {
    "execution": {
     "iopub.execute_input": "2025-07-09T08:41:44.849752Z",
     "iopub.status.busy": "2025-07-09T08:41:44.849436Z",
     "iopub.status.idle": "2025-07-09T08:41:44.855451Z",
     "shell.execute_reply": "2025-07-09T08:41:44.854732Z"
    },
    "papermill": {
     "duration": 0.012313,
     "end_time": "2025-07-09T08:41:44.856949",
     "exception": false,
     "start_time": "2025-07-09T08:41:44.844636",
     "status": "completed"
    },
    "tags": []
   },
   "outputs": [],
   "source": [
    "from keras.datasets import imdb\n",
    "from keras import Sequential\n",
    "from keras.layers import Dense,SimpleRNN,Embedding,Flatten"
   ]
  },
  {
   "cell_type": "code",
   "execution_count": 12,
   "id": "b753c154",
   "metadata": {
    "execution": {
     "iopub.execute_input": "2025-07-09T08:41:44.866090Z",
     "iopub.status.busy": "2025-07-09T08:41:44.865748Z",
     "iopub.status.idle": "2025-07-09T08:41:49.528106Z",
     "shell.execute_reply": "2025-07-09T08:41:49.527200Z"
    },
    "papermill": {
     "duration": 4.669139,
     "end_time": "2025-07-09T08:41:49.530179",
     "exception": false,
     "start_time": "2025-07-09T08:41:44.861040",
     "status": "completed"
    },
    "tags": []
   },
   "outputs": [
    {
     "name": "stdout",
     "output_type": "stream",
     "text": [
      "Downloading data from https://storage.googleapis.com/tensorflow/tf-keras-datasets/imdb.npz\n",
      "\u001b[1m17464789/17464789\u001b[0m \u001b[32m━━━━━━━━━━━━━━━━━━━━\u001b[0m\u001b[37m\u001b[0m \u001b[1m1s\u001b[0m 0us/step\n"
     ]
    }
   ],
   "source": [
    "(X_train,y_train),(X_test,y_test) = imdb.load_data()"
   ]
  },
  {
   "cell_type": "code",
   "execution_count": 13,
   "id": "3945b440",
   "metadata": {
    "execution": {
     "iopub.execute_input": "2025-07-09T08:41:49.548046Z",
     "iopub.status.busy": "2025-07-09T08:41:49.547335Z",
     "iopub.status.idle": "2025-07-09T08:41:49.554463Z",
     "shell.execute_reply": "2025-07-09T08:41:49.553605Z"
    },
    "papermill": {
     "duration": 0.017326,
     "end_time": "2025-07-09T08:41:49.555989",
     "exception": false,
     "start_time": "2025-07-09T08:41:49.538663",
     "status": "completed"
    },
    "tags": []
   },
   "outputs": [
    {
     "data": {
      "text/plain": [
       "[1,\n",
       " 14,\n",
       " 22,\n",
       " 16,\n",
       " 43,\n",
       " 530,\n",
       " 973,\n",
       " 1622,\n",
       " 1385,\n",
       " 65,\n",
       " 458,\n",
       " 4468,\n",
       " 66,\n",
       " 3941,\n",
       " 4,\n",
       " 173,\n",
       " 36,\n",
       " 256,\n",
       " 5,\n",
       " 25,\n",
       " 100,\n",
       " 43,\n",
       " 838,\n",
       " 112,\n",
       " 50,\n",
       " 670,\n",
       " 22665,\n",
       " 9,\n",
       " 35,\n",
       " 480,\n",
       " 284,\n",
       " 5,\n",
       " 150,\n",
       " 4,\n",
       " 172,\n",
       " 112,\n",
       " 167,\n",
       " 21631,\n",
       " 336,\n",
       " 385,\n",
       " 39,\n",
       " 4,\n",
       " 172,\n",
       " 4536,\n",
       " 1111,\n",
       " 17,\n",
       " 546,\n",
       " 38,\n",
       " 13,\n",
       " 447,\n",
       " 4,\n",
       " 192,\n",
       " 50,\n",
       " 16,\n",
       " 6,\n",
       " 147,\n",
       " 2025,\n",
       " 19,\n",
       " 14,\n",
       " 22,\n",
       " 4,\n",
       " 1920,\n",
       " 4613,\n",
       " 469,\n",
       " 4,\n",
       " 22,\n",
       " 71,\n",
       " 87,\n",
       " 12,\n",
       " 16,\n",
       " 43,\n",
       " 530,\n",
       " 38,\n",
       " 76,\n",
       " 15,\n",
       " 13,\n",
       " 1247,\n",
       " 4,\n",
       " 22,\n",
       " 17,\n",
       " 515,\n",
       " 17,\n",
       " 12,\n",
       " 16,\n",
       " 626,\n",
       " 18,\n",
       " 19193,\n",
       " 5,\n",
       " 62,\n",
       " 386,\n",
       " 12,\n",
       " 8,\n",
       " 316,\n",
       " 8,\n",
       " 106,\n",
       " 5,\n",
       " 4,\n",
       " 2223,\n",
       " 5244,\n",
       " 16,\n",
       " 480,\n",
       " 66,\n",
       " 3785,\n",
       " 33,\n",
       " 4,\n",
       " 130,\n",
       " 12,\n",
       " 16,\n",
       " 38,\n",
       " 619,\n",
       " 5,\n",
       " 25,\n",
       " 124,\n",
       " 51,\n",
       " 36,\n",
       " 135,\n",
       " 48,\n",
       " 25,\n",
       " 1415,\n",
       " 33,\n",
       " 6,\n",
       " 22,\n",
       " 12,\n",
       " 215,\n",
       " 28,\n",
       " 77,\n",
       " 52,\n",
       " 5,\n",
       " 14,\n",
       " 407,\n",
       " 16,\n",
       " 82,\n",
       " 10311,\n",
       " 8,\n",
       " 4,\n",
       " 107,\n",
       " 117,\n",
       " 5952,\n",
       " 15,\n",
       " 256,\n",
       " 4,\n",
       " 31050,\n",
       " 7,\n",
       " 3766,\n",
       " 5,\n",
       " 723,\n",
       " 36,\n",
       " 71,\n",
       " 43,\n",
       " 530,\n",
       " 476,\n",
       " 26,\n",
       " 400,\n",
       " 317,\n",
       " 46,\n",
       " 7,\n",
       " 4,\n",
       " 12118,\n",
       " 1029,\n",
       " 13,\n",
       " 104,\n",
       " 88,\n",
       " 4,\n",
       " 381,\n",
       " 15,\n",
       " 297,\n",
       " 98,\n",
       " 32,\n",
       " 2071,\n",
       " 56,\n",
       " 26,\n",
       " 141,\n",
       " 6,\n",
       " 194,\n",
       " 7486,\n",
       " 18,\n",
       " 4,\n",
       " 226,\n",
       " 22,\n",
       " 21,\n",
       " 134,\n",
       " 476,\n",
       " 26,\n",
       " 480,\n",
       " 5,\n",
       " 144,\n",
       " 30,\n",
       " 5535,\n",
       " 18,\n",
       " 51,\n",
       " 36,\n",
       " 28,\n",
       " 224,\n",
       " 92,\n",
       " 25,\n",
       " 104,\n",
       " 4,\n",
       " 226,\n",
       " 65,\n",
       " 16,\n",
       " 38,\n",
       " 1334,\n",
       " 88,\n",
       " 12,\n",
       " 16,\n",
       " 283,\n",
       " 5,\n",
       " 16,\n",
       " 4472,\n",
       " 113,\n",
       " 103,\n",
       " 32,\n",
       " 15,\n",
       " 16,\n",
       " 5345,\n",
       " 19,\n",
       " 178,\n",
       " 32]"
      ]
     },
     "execution_count": 13,
     "metadata": {},
     "output_type": "execute_result"
    }
   ],
   "source": [
    "X_train[0]"
   ]
  },
  {
   "cell_type": "code",
   "execution_count": 14,
   "id": "1d3f4043",
   "metadata": {
    "execution": {
     "iopub.execute_input": "2025-07-09T08:41:49.573218Z",
     "iopub.status.busy": "2025-07-09T08:41:49.572391Z",
     "iopub.status.idle": "2025-07-09T08:41:49.578132Z",
     "shell.execute_reply": "2025-07-09T08:41:49.577299Z"
    },
    "papermill": {
     "duration": 0.015286,
     "end_time": "2025-07-09T08:41:49.579617",
     "exception": false,
     "start_time": "2025-07-09T08:41:49.564331",
     "status": "completed"
    },
    "tags": []
   },
   "outputs": [
    {
     "data": {
      "text/plain": [
       "141"
      ]
     },
     "execution_count": 14,
     "metadata": {},
     "output_type": "execute_result"
    }
   ],
   "source": [
    "len(X_train[2])"
   ]
  },
  {
   "cell_type": "code",
   "execution_count": 15,
   "id": "c1de2478",
   "metadata": {
    "execution": {
     "iopub.execute_input": "2025-07-09T08:41:49.590623Z",
     "iopub.status.busy": "2025-07-09T08:41:49.590201Z",
     "iopub.status.idle": "2025-07-09T08:41:50.704464Z",
     "shell.execute_reply": "2025-07-09T08:41:50.703343Z"
    },
    "papermill": {
     "duration": 1.121993,
     "end_time": "2025-07-09T08:41:50.706402",
     "exception": false,
     "start_time": "2025-07-09T08:41:49.584409",
     "status": "completed"
    },
    "tags": []
   },
   "outputs": [],
   "source": [
    "X_train = pad_sequences(X_train,padding='post')\n",
    "X_test = pad_sequences(X_test,padding='post')"
   ]
  },
  {
   "cell_type": "code",
   "execution_count": 16,
   "id": "2598d04e",
   "metadata": {
    "execution": {
     "iopub.execute_input": "2025-07-09T08:41:50.717419Z",
     "iopub.status.busy": "2025-07-09T08:41:50.716915Z",
     "iopub.status.idle": "2025-07-09T08:41:50.723300Z",
     "shell.execute_reply": "2025-07-09T08:41:50.722424Z"
    },
    "papermill": {
     "duration": 0.013594,
     "end_time": "2025-07-09T08:41:50.724804",
     "exception": false,
     "start_time": "2025-07-09T08:41:50.711210",
     "status": "completed"
    },
    "tags": []
   },
   "outputs": [
    {
     "data": {
      "text/plain": [
       "array([ 1, 14, 22, ...,  0,  0,  0], dtype=int32)"
      ]
     },
     "execution_count": 16,
     "metadata": {},
     "output_type": "execute_result"
    }
   ],
   "source": [
    "X_train[0]"
   ]
  },
  {
   "cell_type": "code",
   "execution_count": 17,
   "id": "87172bdc",
   "metadata": {
    "execution": {
     "iopub.execute_input": "2025-07-09T08:41:50.735907Z",
     "iopub.status.busy": "2025-07-09T08:41:50.735554Z",
     "iopub.status.idle": "2025-07-09T08:41:50.862518Z",
     "shell.execute_reply": "2025-07-09T08:41:50.861637Z"
    },
    "papermill": {
     "duration": 0.134169,
     "end_time": "2025-07-09T08:41:50.863910",
     "exception": false,
     "start_time": "2025-07-09T08:41:50.729741",
     "status": "completed"
    },
    "tags": []
   },
   "outputs": [
    {
     "name": "stderr",
     "output_type": "stream",
     "text": [
      "2025-07-09 08:41:50.743520: E external/local_xla/xla/stream_executor/cuda/cuda_driver.cc:152] failed call to cuInit: INTERNAL: CUDA error: Failed call to cuInit: UNKNOWN ERROR (303)\n",
      "/usr/local/lib/python3.11/dist-packages/keras/src/layers/rnn/rnn.py:200: UserWarning: Do not pass an `input_shape`/`input_dim` argument to a layer. When using Sequential models, prefer using an `Input(shape)` object as the first layer in the model instead.\n",
      "  super().__init__(**kwargs)\n"
     ]
    },
    {
     "data": {
      "text/html": [
       "<pre style=\"white-space:pre;overflow-x:auto;line-height:normal;font-family:Menlo,'DejaVu Sans Mono',consolas,'Courier New',monospace\"><span style=\"font-weight: bold\">Model: \"sequential\"</span>\n",
       "</pre>\n"
      ],
      "text/plain": [
       "\u001b[1mModel: \"sequential\"\u001b[0m\n"
      ]
     },
     "metadata": {},
     "output_type": "display_data"
    },
    {
     "data": {
      "text/html": [
       "<pre style=\"white-space:pre;overflow-x:auto;line-height:normal;font-family:Menlo,'DejaVu Sans Mono',consolas,'Courier New',monospace\">┏━━━━━━━━━━━━━━━━━━━━━━━━━━━━━━━━━┳━━━━━━━━━━━━━━━━━━━━━━━━┳━━━━━━━━━━━━━━━┓\n",
       "┃<span style=\"font-weight: bold\"> Layer (type)                    </span>┃<span style=\"font-weight: bold\"> Output Shape           </span>┃<span style=\"font-weight: bold\">       Param # </span>┃\n",
       "┡━━━━━━━━━━━━━━━━━━━━━━━━━━━━━━━━━╇━━━━━━━━━━━━━━━━━━━━━━━━╇━━━━━━━━━━━━━━━┩\n",
       "│ simple_rnn (<span style=\"color: #0087ff; text-decoration-color: #0087ff\">SimpleRNN</span>)          │ (<span style=\"color: #00d7ff; text-decoration-color: #00d7ff\">None</span>, <span style=\"color: #00af00; text-decoration-color: #00af00\">32</span>)             │         <span style=\"color: #00af00; text-decoration-color: #00af00\">1,088</span> │\n",
       "├─────────────────────────────────┼────────────────────────┼───────────────┤\n",
       "│ dense (<span style=\"color: #0087ff; text-decoration-color: #0087ff\">Dense</span>)                   │ (<span style=\"color: #00d7ff; text-decoration-color: #00d7ff\">None</span>, <span style=\"color: #00af00; text-decoration-color: #00af00\">1</span>)              │            <span style=\"color: #00af00; text-decoration-color: #00af00\">33</span> │\n",
       "└─────────────────────────────────┴────────────────────────┴───────────────┘\n",
       "</pre>\n"
      ],
      "text/plain": [
       "┏━━━━━━━━━━━━━━━━━━━━━━━━━━━━━━━━━┳━━━━━━━━━━━━━━━━━━━━━━━━┳━━━━━━━━━━━━━━━┓\n",
       "┃\u001b[1m \u001b[0m\u001b[1mLayer (type)                   \u001b[0m\u001b[1m \u001b[0m┃\u001b[1m \u001b[0m\u001b[1mOutput Shape          \u001b[0m\u001b[1m \u001b[0m┃\u001b[1m \u001b[0m\u001b[1m      Param #\u001b[0m\u001b[1m \u001b[0m┃\n",
       "┡━━━━━━━━━━━━━━━━━━━━━━━━━━━━━━━━━╇━━━━━━━━━━━━━━━━━━━━━━━━╇━━━━━━━━━━━━━━━┩\n",
       "│ simple_rnn (\u001b[38;5;33mSimpleRNN\u001b[0m)          │ (\u001b[38;5;45mNone\u001b[0m, \u001b[38;5;34m32\u001b[0m)             │         \u001b[38;5;34m1,088\u001b[0m │\n",
       "├─────────────────────────────────┼────────────────────────┼───────────────┤\n",
       "│ dense (\u001b[38;5;33mDense\u001b[0m)                   │ (\u001b[38;5;45mNone\u001b[0m, \u001b[38;5;34m1\u001b[0m)              │            \u001b[38;5;34m33\u001b[0m │\n",
       "└─────────────────────────────────┴────────────────────────┴───────────────┘\n"
      ]
     },
     "metadata": {},
     "output_type": "display_data"
    },
    {
     "data": {
      "text/html": [
       "<pre style=\"white-space:pre;overflow-x:auto;line-height:normal;font-family:Menlo,'DejaVu Sans Mono',consolas,'Courier New',monospace\"><span style=\"font-weight: bold\"> Total params: </span><span style=\"color: #00af00; text-decoration-color: #00af00\">1,121</span> (4.38 KB)\n",
       "</pre>\n"
      ],
      "text/plain": [
       "\u001b[1m Total params: \u001b[0m\u001b[38;5;34m1,121\u001b[0m (4.38 KB)\n"
      ]
     },
     "metadata": {},
     "output_type": "display_data"
    },
    {
     "data": {
      "text/html": [
       "<pre style=\"white-space:pre;overflow-x:auto;line-height:normal;font-family:Menlo,'DejaVu Sans Mono',consolas,'Courier New',monospace\"><span style=\"font-weight: bold\"> Trainable params: </span><span style=\"color: #00af00; text-decoration-color: #00af00\">1,121</span> (4.38 KB)\n",
       "</pre>\n"
      ],
      "text/plain": [
       "\u001b[1m Trainable params: \u001b[0m\u001b[38;5;34m1,121\u001b[0m (4.38 KB)\n"
      ]
     },
     "metadata": {},
     "output_type": "display_data"
    },
    {
     "data": {
      "text/html": [
       "<pre style=\"white-space:pre;overflow-x:auto;line-height:normal;font-family:Menlo,'DejaVu Sans Mono',consolas,'Courier New',monospace\"><span style=\"font-weight: bold\"> Non-trainable params: </span><span style=\"color: #00af00; text-decoration-color: #00af00\">0</span> (0.00 B)\n",
       "</pre>\n"
      ],
      "text/plain": [
       "\u001b[1m Non-trainable params: \u001b[0m\u001b[38;5;34m0\u001b[0m (0.00 B)\n"
      ]
     },
     "metadata": {},
     "output_type": "display_data"
    }
   ],
   "source": [
    "model = Sequential()\n",
    "\n",
    "model.add(SimpleRNN(32,input_shape=(50,1),return_sequences=False))\n",
    "model.add(Dense(1,activation='sigmoid'))\n",
    "\n",
    "model.summary()"
   ]
  },
  {
   "cell_type": "code",
   "execution_count": 18,
   "id": "eae50173",
   "metadata": {
    "execution": {
     "iopub.execute_input": "2025-07-09T08:41:50.877071Z",
     "iopub.status.busy": "2025-07-09T08:41:50.876140Z",
     "iopub.status.idle": "2025-07-09T09:10:13.502117Z",
     "shell.execute_reply": "2025-07-09T09:10:13.501097Z"
    },
    "papermill": {
     "duration": 1702.792546,
     "end_time": "2025-07-09T09:10:13.662034",
     "exception": false,
     "start_time": "2025-07-09T08:41:50.869488",
     "status": "completed"
    },
    "tags": []
   },
   "outputs": [
    {
     "name": "stdout",
     "output_type": "stream",
     "text": [
      "Epoch 1/5\n",
      "\u001b[1m782/782\u001b[0m \u001b[32m━━━━━━━━━━━━━━━━━━━━\u001b[0m\u001b[37m\u001b[0m \u001b[1m344s\u001b[0m 437ms/step - accuracy: 0.4907 - loss: 0.6944 - val_accuracy: 0.5000 - val_loss: 0.6933\n",
      "Epoch 2/5\n",
      "\u001b[1m782/782\u001b[0m \u001b[32m━━━━━━━━━━━━━━━━━━━━\u001b[0m\u001b[37m\u001b[0m \u001b[1m337s\u001b[0m 430ms/step - accuracy: 0.4953 - loss: 0.6934 - val_accuracy: 0.5000 - val_loss: 0.6932\n",
      "Epoch 3/5\n",
      "\u001b[1m782/782\u001b[0m \u001b[32m━━━━━━━━━━━━━━━━━━━━\u001b[0m\u001b[37m\u001b[0m \u001b[1m338s\u001b[0m 432ms/step - accuracy: 0.5002 - loss: 0.6942 - val_accuracy: 0.5018 - val_loss: 0.6932\n",
      "Epoch 4/5\n",
      "\u001b[1m782/782\u001b[0m \u001b[32m━━━━━━━━━━━━━━━━━━━━\u001b[0m\u001b[37m\u001b[0m \u001b[1m340s\u001b[0m 435ms/step - accuracy: 0.5056 - loss: 0.6937 - val_accuracy: 0.5029 - val_loss: 0.6932\n",
      "Epoch 5/5\n",
      "\u001b[1m782/782\u001b[0m \u001b[32m━━━━━━━━━━━━━━━━━━━━\u001b[0m\u001b[37m\u001b[0m \u001b[1m343s\u001b[0m 439ms/step - accuracy: 0.5033 - loss: 0.6936 - val_accuracy: 0.4980 - val_loss: 0.6951\n"
     ]
    },
    {
     "data": {
      "text/plain": [
       "<keras.src.callbacks.history.History at 0x78b38bbe2650>"
      ]
     },
     "execution_count": 18,
     "metadata": {},
     "output_type": "execute_result"
    }
   ],
   "source": [
    "model.compile(loss='binary_crossentropy',optimizer='adam',metrics=['accuracy'])\n",
    "\n",
    "model.fit(X_train,y_train,epochs=5,validation_data=(X_test,y_test))"
   ]
  },
  {
   "cell_type": "code",
   "execution_count": null,
   "id": "bc15cef8",
   "metadata": {
    "papermill": {
     "duration": 0.197346,
     "end_time": "2025-07-09T09:10:14.058954",
     "exception": false,
     "start_time": "2025-07-09T09:10:13.861608",
     "status": "completed"
    },
    "tags": []
   },
   "outputs": [],
   "source": []
  }
 ],
 "metadata": {
  "kaggle": {
   "accelerator": "none",
   "dataSources": [],
   "dockerImageVersionId": 31089,
   "isGpuEnabled": false,
   "isInternetEnabled": true,
   "language": "python",
   "sourceType": "notebook"
  },
  "kernelspec": {
   "display_name": "Python 3",
   "language": "python",
   "name": "python3"
  },
  "language_info": {
   "codemirror_mode": {
    "name": "ipython",
    "version": 3
   },
   "file_extension": ".py",
   "mimetype": "text/x-python",
   "name": "python",
   "nbconvert_exporter": "python",
   "pygments_lexer": "ipython3",
   "version": "3.11.13"
  },
  "papermill": {
   "default_parameters": {},
   "duration": 1738.362642,
   "end_time": "2025-07-09T09:10:17.291558",
   "environment_variables": {},
   "exception": null,
   "input_path": "__notebook__.ipynb",
   "output_path": "__notebook__.ipynb",
   "parameters": {},
   "start_time": "2025-07-09T08:41:18.928916",
   "version": "2.6.0"
  }
 },
 "nbformat": 4,
 "nbformat_minor": 5
}
